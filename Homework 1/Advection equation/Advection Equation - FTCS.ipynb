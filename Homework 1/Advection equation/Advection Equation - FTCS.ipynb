{
 "cells": [
  {
   "cell_type": "markdown",
   "metadata": {},
   "source": [
    "# Advection Equation - FTCS\n",
    "\n",
    "I solve the advection equation $u_t + u_x=0$ using as an initial condition a gaussian profile $u(x,t=0)=\\exp{[-(x-x_0)^2]}$ with $x_0=5$.\n",
    "\n",
    "I use a domain $x\\in [0,10]$ with periodic boundary conditions."
   ]
  },
  {
   "cell_type": "code",
   "execution_count": 2,
   "metadata": {},
   "outputs": [],
   "source": [
    "import numpy as np\n",
    "import matplotlib.pyplot as plt\n",
    "import os"
   ]
  },
  {
   "cell_type": "code",
   "execution_count": 3,
   "metadata": {},
   "outputs": [],
   "source": [
    "run_name = '_101points_0.5cf'"
   ]
  },
  {
   "cell_type": "code",
   "execution_count": 4,
   "metadata": {},
   "outputs": [
    {
     "name": "stdout",
     "output_type": "stream",
     "text": [
      "nx = 101\n",
      "dx = 0.1\n",
      "dt = 0.05\n",
      "Number of iterations = 400.0\n"
     ]
    }
   ],
   "source": [
    "L = 10.0       \n",
    "nx = 101       \n",
    "dx = L/(nx-1) \n",
    "x = np.linspace(0, L, nx)\n",
    "\n",
    "cf = 0.5      \n",
    "dt = cf*dx\n",
    "t_final = 20.0\n",
    "\n",
    "x0=5\n",
    "u_initial = np.exp(-(x-x0)**2)\n",
    "\n",
    "u_current = u_initial.copy()\n",
    "\n",
    "l2norm=[]\n",
    "l2norm.append(np.sqrt(np.sum(u_current**2)/len(u_current)))\n",
    "\n",
    "time=[]\n",
    "time.append(0.0)\n",
    "\n",
    "print('nx =',nx)\n",
    "print('dx =',dx)\n",
    "print('dt =',dt)\n",
    "print('Number of iterations =', t_final/dt)"
   ]
  },
  {
   "cell_type": "code",
   "execution_count": 5,
   "metadata": {},
   "outputs": [
    {
     "data": {
      "text/plain": [
       "['.ipynb_checkpoints',\n",
       " 'Exercise 1 - Advection Equation - FTCS.ipynb',\n",
       " 'Exercise 1 - Advection Equation - LAX-FRIEDRICHS.ipynb',\n",
       " 'Exercise 1 - Advection Equation - LAXWENDROFF.ipynb',\n",
       " 'Exercise 1 - Advection Equation - LEAPFROG.ipynb',\n",
       " 'images_FTCS_101points_0.5cf',\n",
       " 'Plot the l2 norm vs time.ipynb']"
      ]
     },
     "execution_count": 5,
     "metadata": {},
     "output_type": "execute_result"
    }
   ],
   "source": [
    "os.makedirs('./images_FTCS' + str(run_name))\n",
    "os.listdir('./')"
   ]
  },
  {
   "cell_type": "code",
   "execution_count": 6,
   "metadata": {},
   "outputs": [],
   "source": [
    "t = 0.0\n",
    "i = 0\n",
    "\n",
    "plt.plot(x, u_current)\n",
    "plt.title('Time='+str(round(t,2)))\n",
    "plt.ylim(0,1.1)\n",
    "plt.savefig('./images_FTCS' + str(run_name) + '/fig_'+str(i).zfill(5)+'.png', dpi=200)\n",
    "plt.close()\n",
    "\n",
    "while t < t_final:\n",
    "\n",
    "    u_next = u_current - dt/(2*dx)*(np.roll(u_current, -1) - np.roll(u_current, 1)) \n",
    "    u_current = u_next.copy()\n",
    "    \n",
    "    t += dt\n",
    "    i += 1\n",
    "\n",
    "    l2norm.append(np.sqrt(np.sum(u_current**2)/len(u_current)))\n",
    "    time.append(t)\n",
    "    \n",
    "    if (i%10==0):\n",
    "        plt.plot(x, u_current)\n",
    "        plt.title('Time = '+str(round(t,2)))\n",
    "        plt.ylim(0,1.1)\n",
    "        plt.savefig('./images_FTCS' + str(run_name) + '/fig_'+str(i).zfill(5)+'.png', dpi=200)\n",
    "        plt.close()"
   ]
  },
  {
   "cell_type": "code",
   "execution_count": 7,
   "metadata": {},
   "outputs": [
    {
     "data": {
      "image/png": "[encoded data removed]",
      "text/plain": [
       "<Figure size 640x480 with 1 Axes>"
      ]
     },
     "metadata": {},
     "output_type": "display_data"
    }
   ],
   "source": [
    "plt.plot(x, u_initial, label='Initial')\n",
    "plt.plot(x, u_current, label='Final')\n",
    "plt.ylim(0,1.1)\n",
    "plt.legend()\n",
    "plt.grid (c='gray', alpha = 0.3)\n",
    "plt.savefig('init_final_stepFTCS' + str(run_name) + '.png', dpi=200)"
   ]
  },
  {
   "cell_type": "code",
   "execution_count": 8,
   "metadata": {},
   "outputs": [],
   "source": [
    "np.savetxt('l2norm_FTCS' + str(run_name) + '.txt', l2norm)\n",
    "np.savetxt('time_FTCS' + str(run_name) + '.txt', time)"
   ]
  }
 ],
 "metadata": {
  "kernelspec": {
   "display_name": "Python 3 (ipykernel)",
   "language": "python",
   "name": "python3"
  },
  "language_info": {
   "codemirror_mode": {
    "name": "ipython",
    "version": 3
   },
   "file_extension": ".py",
   "mimetype": "text/x-python",
   "name": "python",
   "nbconvert_exporter": "python",
   "pygments_lexer": "ipython3",
   "version": "3.11.7"
  }
 },
 "nbformat": 4,
 "nbformat_minor": 4
}
