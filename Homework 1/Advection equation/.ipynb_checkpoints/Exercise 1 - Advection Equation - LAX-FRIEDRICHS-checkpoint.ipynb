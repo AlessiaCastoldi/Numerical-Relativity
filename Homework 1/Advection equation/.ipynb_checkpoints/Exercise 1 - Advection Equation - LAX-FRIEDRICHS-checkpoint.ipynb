{
 "cells": [
  {
   "cell_type": "markdown",
   "metadata": {},
   "source": [
    "# Advection Equation\n",
    "\n",
    "Here we solve the advection equation $u_t + a u_x=0$ using as an initial condition a gaussian profile $u(x,t=0)=\\exp{[-(x-x_0)^2]}$ with $x_0=5$.\n",
    "\n",
    "We use a domain $x\\in [0,10]$ with periodic boundary conditions."
   ]
  },
  {
   "cell_type": "markdown",
   "metadata": {},
   "source": [
    "The solution of this advection equation with a Gaussian profile is expected to be a gaussian moving to the right"
   ]
  },
  {
   "cell_type": "code",
   "execution_count": 1,
   "metadata": {},
   "outputs": [
    {
     "name": "stdout",
     "output_type": "stream",
     "text": [
      "nx = 101\n",
      "dx = 0.1\n",
      "dt = 0.020000000000000004\n",
      "Number of iterations = 999.9999999999998\n"
     ]
    }
   ],
   "source": [
    "import numpy as np\n",
    "\n",
    "run_name = '_101points_0.2cf'\n",
    "\n",
    "# Define the domain\n",
    "L = 10.0     # Domain length\n",
    "nx = 101    # Number of grid points\n",
    "dx = L/(nx-1)   # Grid spacing\n",
    "x = np.linspace(0, L, nx)\n",
    "\n",
    "#print(x,'\\n',dx) #just a check\n",
    "\n",
    "# Define the time step and the final time\n",
    "cf = 0.5       # Factor of 1/2\n",
    "dt = cf*dx   # Time step\n",
    "t_final = 20.0\n",
    "\n",
    "print('nx =',nx)\n",
    "print('dx =',dx)\n",
    "print('dt =',dt)\n",
    "print('Number of iterations =',t_final/dt)\n",
    "\n",
    "\n",
    "# Define the initial condition\n",
    "x0=5\n",
    "u_initial = np.exp(-(x-x0)**2)\n",
    "\n",
    "# Initialize the solution array\n",
    "u_current = u_initial.copy()   # Always use copy to create a copy\n",
    "\n",
    "# We create arrays where we will store the time and the l2norm\n",
    "l2norm=[]\n",
    "l2norm.append(np.sqrt(np.sum(u_current**2)/len(u_current)))\n",
    "# There are different norms i can use, like l1norm (See other file for details on the norms)\n",
    "\n",
    "time=[]\n",
    "time.append(0.0)   # Time starts from zero"
   ]
  },
  {
   "cell_type": "code",
   "execution_count": 2,
   "metadata": {},
   "outputs": [
    {
     "name": "stdout",
     "output_type": "stream",
     "text": [
      "C:\\Users\\aless\\Desktop\\Università\\Numerical relativity\\Exercise\\Exercise 1 - Advection equation\\LAX - FRIEDRICHS\n"
     ]
    },
    {
     "data": {
      "text/plain": [
       "['.ipynb_checkpoints',\n",
       " 'Exercise 1 - Advection Equation - LAX-FRIEDRICHS.ipynb',\n",
       " 'images_LAXFRIED_101points_0.2cf',\n",
       " 'images_LAXFRIED_101points_0.5cf',\n",
       " 'images_LAXFRIED_101points_0.8cf',\n",
       " 'images_LAXFRIED_201points_0.5cf',\n",
       " 'images_LAXFRIED_501points_0.5cf',\n",
       " 'init_final_stepLAXFRIED_101points_0.5cf.png',\n",
       " 'init_final_stepLAXFRIED_101points_0.8cf.png',\n",
       " 'init_final_stepLAXFRIED_201points_0.5cf.png',\n",
       " 'init_final_stepLAXFRIED_501points_0.5cf.png',\n",
       " 'l2norm_LAX.dat',\n",
       " 'l2norm_LAXFRIED_101points_0.5cf.png',\n",
       " 'l2norm_LAXFRIED_101points_0.5cf.txt',\n",
       " 'l2norm_LAXFRIED_101points_0.8cf.png',\n",
       " 'l2norm_LAXFRIED_101points_0.8cf.txt',\n",
       " 'l2norm_LAXFRIED_201points_0.5cf.png',\n",
       " 'l2norm_LAXFRIED_201points_0.5cf.txt',\n",
       " 'l2norm_LAXFRIED_501points_0.5cf.png',\n",
       " 'l2norm_LAXFRIED_501points_0.5cf.txt',\n",
       " 'movie_LAXFRIED_101points_0.5cf.mp4',\n",
       " 'movie_LAXFRIED_101points_0.8cf.mp4',\n",
       " 'movie_LAXFRIED_201points_0.5cf.mp4',\n",
       " 'movie_LAXFRIED_501points_0.5cf.mp4',\n",
       " 'time_LAXFRIED_101points_0.5cf.txt',\n",
       " 'time_LAXFRIED_101points_0.8cf.txt',\n",
       " 'time_LAXFRIED_201points_0.5cf.txt',\n",
       " 'time_LAXFRIED_501points_0.5cf.txt']"
      ]
     },
     "execution_count": 2,
     "metadata": {},
     "output_type": "execute_result"
    }
   ],
   "source": [
    "import matplotlib.pyplot as plt\n",
    "import os\n",
    "# Create directory where to save images\n",
    "print(os.getcwd())\n",
    "\n",
    "os.makedirs('./images_LAXFRIED' + str(run_name))\n",
    "\n",
    "os.listdir('./')"
   ]
  },
  {
   "cell_type": "code",
   "execution_count": 3,
   "metadata": {},
   "outputs": [],
   "source": [
    "# Initilize time and iteration counter\n",
    "t = 0.0\n",
    "i = 0\n",
    "\n",
    "# Save the initial conditions\n",
    "plt.plot(x, u_current)\n",
    "plt.title('Time='+str(round(t,2)))\n",
    "plt.ylim(0,1.1)\n",
    "plt.savefig('./images_LAXFRIED' + str(run_name) + '/fig_'+str(i).zfill(5)+'.png', dpi=200)\n",
    "plt.close()\n",
    "\n",
    "# Solve (evolve) the advection equation\n",
    "while t < t_final:\n",
    "    # Compute the new solution using the FTCS method\n",
    "    # Note: np.roll(u_current, -1) is equivalent to u(j+1) and\n",
    "    #       np.roll(u_current,  1) is equivalent to u(j-1)\n",
    "    # Using np.roll is equivalent to use periodic boundary conditions\n",
    "    # np.roll takes an array and shifts everything to the left/right\n",
    "    u_next = 1/2*(np.roll(u_current, 1) + np.roll(u_current, -1))- dt/(2*dx)*(np.roll(u_current, -1) - np.roll(u_current, 1))\n",
    "    \n",
    "    # Update the solution\n",
    "    u_current = u_next.copy()\n",
    "    \n",
    "    # Advance the time counter\n",
    "    t += dt\n",
    "    i += 1\n",
    "    \n",
    "    # Compute the l2 norm and add the time to the time vector\n",
    "    l2norm.append(np.sqrt(np.sum(u_current**2)/len(u_current)))\n",
    "    time.append(t)\n",
    "    \n",
    "    # Plot the current result and save in an image every 10 iterations (just to not produce too many images)\n",
    "    if (i%10==0):\n",
    "        plt.plot(x, u_current)\n",
    "        plt.title('Time='+str(round(t,2)))\n",
    "        plt.ylim(0,1.1)\n",
    "        plt.savefig('./images_LAXFRIED' + str(run_name) + '/fig_'+str(i).zfill(5)+'.png', dpi=200)\n",
    "        plt.close()"
   ]
  },
  {
   "cell_type": "code",
   "execution_count": 4,
   "metadata": {},
   "outputs": [
    {
     "data": {
      "image/png": "[encoded data removed]",
      "text/plain": [
       "<Figure size 432x288 with 1 Axes>"
      ]
     },
     "metadata": {
      "needs_background": "light"
     },
     "output_type": "display_data"
    }
   ],
   "source": [
    "# Plot the final solution\n",
    "plt.plot(x, u_initial, label='Initial')\n",
    "plt.plot(x, u_current, label='Final')\n",
    "plt.title('Time='+str(round(t,2)))\n",
    "plt.ylim(0,1.1)\n",
    "plt.legend()\n",
    "plt.grid (c='gray', alpha = 0.3)\n",
    "#plt.show()\n",
    "plt.savefig('init_final_stepLAXFRIED' + str(run_name) + '.png', dpi=200)"
   ]
  },
  {
   "cell_type": "code",
   "execution_count": 9,
   "metadata": {},
   "outputs": [],
   "source": [
    "np.savetxt('l2norm_LAXFRIED' + str(run_name) + '.txt', l2norm)\n",
    "np.savetxt('time_LAXFRIED' + str(run_name) + '.txt', time)"
   ]
  }
 ],
 "metadata": {
  "kernelspec": {
   "display_name": "Python 3 (ipykernel)",
   "language": "python",
   "name": "python3"
  },
  "language_info": {
   "codemirror_mode": {
    "name": "ipython",
    "version": 3
   },
   "file_extension": ".py",
   "mimetype": "text/x-python",
   "name": "python",
   "nbconvert_exporter": "python",
   "pygments_lexer": "ipython3",
   "version": "3.11.7"
  }
 },
 "nbformat": 4,
 "nbformat_minor": 4
}
