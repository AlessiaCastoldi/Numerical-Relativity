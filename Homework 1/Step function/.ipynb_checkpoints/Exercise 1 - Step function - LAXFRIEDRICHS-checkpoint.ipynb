{
 "cells": [
  {
   "cell_type": "markdown",
   "metadata": {},
   "source": [
    "# Step function - Lax-Friedrichs\n",
    "I solve the the advection equation using as an initial condition a step function $u(x, t = 0) = 1$ for $x \\in [4,6]$ and $u(x, t = 0) = 0$ in the rest of the domain. I use a domain $x \\in [0,10]$ with periodic boundary conditions.\n",
    "\n",
    "I use the Lax-Friedrichs scheme."
   ]
  },
  {
   "cell_type": "code",
   "execution_count": 1,
   "metadata": {},
   "outputs": [],
   "source": [
    "import numpy as np\n",
    "import matplotlib.pyplot as plt\n",
    "import os"
   ]
  },
  {
   "cell_type": "code",
   "execution_count": 2,
   "metadata": {},
   "outputs": [
    {
     "name": "stdout",
     "output_type": "stream",
     "text": [
      "nx = 101\n",
      "dx = 0.1\n",
      "dt = 0.05\n",
      "Number of iterations = 400.0\n"
     ]
    }
   ],
   "source": [
    "L = 10.0     \n",
    "nx = 101    \n",
    "dx = L/(nx-1)   \n",
    "x = np.linspace(0, L, nx)\n",
    "\n",
    "cf = 0.5      \n",
    "dt = cf*dx\n",
    "t_final = 20.0\n",
    "\n",
    "u_initial = np.empty(len(x))\n",
    "\n",
    "for i in range (len(x)):\n",
    "    if x[i]>=4 and x[i]<=6:\n",
    "        u_initial[i] = 1\n",
    "    else:\n",
    "        u_initial[i] = 0\n",
    "\n",
    "u_current = u_initial.copy()  \n",
    "\n",
    "l2norm=[]\n",
    "l2norm.append(np.sqrt(np.sum(u_current**2)/len(u_current)))\n",
    "\n",
    "time=[]\n",
    "time.append(0.0) \n",
    "\n",
    "print('nx =',nx)\n",
    "print('dx =',dx)\n",
    "print('dt =',dt)\n",
    "print('Number of iterations =',t_final/dt)"
   ]
  },
  {
   "cell_type": "code",
   "execution_count": 3,
   "metadata": {},
   "outputs": [
    {
     "data": {
      "text/plain": [
       "['.ipynb_checkpoints',\n",
       " 'Exercise 1 - Step function - LAXFRIEDRICHS.ipynb',\n",
       " 'Exercise 1 - Step function - LAXWENDROFF.ipynb',\n",
       " 'images_LAX_101points',\n",
       " 'Plot the l2 norm vs time - Step function LAXFRIEDRICHS.ipynb',\n",
       " 'Plot the l2 norm vs time - Step function LAXWENDROFF.ipynb']"
      ]
     },
     "execution_count": 3,
     "metadata": {},
     "output_type": "execute_result"
    }
   ],
   "source": [
    "os.makedirs('./images_LAX_101points')\n",
    "os.listdir('./')"
   ]
  },
  {
   "cell_type": "code",
   "execution_count": 4,
   "metadata": {},
   "outputs": [],
   "source": [
    "t = 0.0\n",
    "i = 0\n",
    "\n",
    "plt.plot(x, u_current)\n",
    "plt.title('Time='+str(round(t,2)))\n",
    "plt.ylim(0,1.1)\n",
    "plt.savefig('./images_LAX_101points/fig_'+str(i).zfill(5)+'.png', dpi=200)\n",
    "plt.close()\n",
    "\n",
    "while t < t_final:\n",
    "    \n",
    "    u_next = 1/2*(np.roll(u_current, 1) + np.roll(u_current, -1))- dt/(2*dx)*(np.roll(u_current, -1) - np.roll(u_current, 1))\n",
    "    u_current = u_next.copy()\n",
    "    \n",
    "    t += dt\n",
    "    i += 1\n",
    "    \n",
    "    l2norm.append(np.sqrt(np.sum(u_current**2)/len(u_current)))\n",
    "    time.append(t)\n",
    "    \n",
    "    if (i%10==0):\n",
    "        plt.plot(x, u_current)\n",
    "        plt.title('Time='+str(round(t,2)))\n",
    "        plt.ylim(0,1.1)\n",
    "        plt.savefig('./images_LAX_101points/fig_'+str(i).zfill(5)+'.png', dpi=200)\n",
    "        plt.close()"
   ]
  },
  {
   "cell_type": "code",
   "execution_count": 5,
   "metadata": {},
   "outputs": [
    {
     "data": {
      "image/png": "[encoded data removed]",
      "text/plain": [
       "<Figure size 640x480 with 1 Axes>"
      ]
     },
     "metadata": {},
     "output_type": "display_data"
    }
   ],
   "source": [
    "# Plot the final solution\n",
    "plt.plot(x, u_initial, label='Initial')\n",
    "plt.plot(x, u_current, label='Final')\n",
    "#plt.title('Time='+str(round(t,2)))\n",
    "plt.ylim(-0.1,1.1)\n",
    "plt.legend()\n",
    "#plt.show()\n",
    "plt.savefig('init_final_step_LAX_101points.png', dpi=200)"
   ]
  },
  {
   "cell_type": "code",
   "execution_count": 6,
   "metadata": {},
   "outputs": [],
   "source": [
    "np.savetxt('l2norm_LAX_101points.txt', l2norm)\n",
    "np.savetxt('time_LAX_101points.txt', time)"
   ]
  }
 ],
 "metadata": {
  "kernelspec": {
   "display_name": "Python 3 (ipykernel)",
   "language": "python",
   "name": "python3"
  },
  "language_info": {
   "codemirror_mode": {
    "name": "ipython",
    "version": 3
   },
   "file_extension": ".py",
   "mimetype": "text/x-python",
   "name": "python",
   "nbconvert_exporter": "python",
   "pygments_lexer": "ipython3",
   "version": "3.11.7"
  }
 },
 "nbformat": 4,
 "nbformat_minor": 4
}
